{
 "cells": [
  {
   "cell_type": "markdown",
   "metadata": {},
   "source": [
    "## Python 装饰器\n",
    "#### 1.闭包函数\n",
    "    python中，一切皆对象,这样就使得变量所拥有的属性，函数也同样拥有.这样，在函数\n",
    "    内创建一个函数的行为是完全合法的。这种函数被叫做内嵌函数，这种函数只有在外部\n",
    "    函数的作用域内被正常调用,在外部函数的作用域之外调用会报错。例如"
   ]
  },
  {
   "cell_type": "code",
   "execution_count": 1,
   "metadata": {},
   "outputs": [
    {
     "name": "stdout",
     "output_type": "stream",
     "text": [
      "Hi, I am the outside function!\n",
      "Hi, I am the inside function!\n"
     ]
    },
    {
     "ename": "NameError",
     "evalue": "name 'inFunc' is not defined",
     "output_type": "error",
     "traceback": [
      "\u001b[1;31m---------------------------------------------------------------------------\u001b[0m",
      "\u001b[1;31mNameError\u001b[0m                                 Traceback (most recent call last)",
      "\u001b[1;32m<ipython-input-1-7fd3248c4ed0>\u001b[0m in \u001b[0;36m<module>\u001b[1;34m()\u001b[0m\n\u001b[0;32m      6\u001b[0m \u001b[1;33m\u001b[0m\u001b[0m\n\u001b[0;32m      7\u001b[0m \u001b[0moutFunc\u001b[0m\u001b[1;33m(\u001b[0m\u001b[1;33m)\u001b[0m\u001b[1;33m\u001b[0m\u001b[0m\n\u001b[1;32m----> 8\u001b[1;33m \u001b[0minFunc\u001b[0m\u001b[1;33m(\u001b[0m\u001b[1;33m)\u001b[0m\u001b[1;33m\u001b[0m\u001b[0m\n\u001b[0m",
      "\u001b[1;31mNameError\u001b[0m: name 'inFunc' is not defined"
     ]
    }
   ],
   "source": [
    "def outFunc():\n",
    "    print(\"1、 Hi, I am the outside function!\")\n",
    "    def inFunc():\n",
    "        print(\"2、 Hi, I am the inside function!\")\n",
    "    inFunc()  # 只可在函数outFunc内部使用，否则会报错\n",
    "\n",
    "outFunc()\n",
    "inFunc()"
   ]
  },
  {
   "cell_type": "markdown",
   "metadata": {},
   "source": [
    "    如果内部函数里引用了外部函数里定义的对象（甚至是外层之外，但不是全局变量），\n",
    "    此时内部函数就被称为闭包函数。闭包函数所应用的外部定义的变量被叫做自由变量\n",
    "    闭包从语法上看非常简单，但是却有强大的作用.闭包可以将自己的代码和作用域以及\n",
    "    外部函数的作用结合在一起。\n",
    "##### 总结: 闭包函数 -- 函数内部定义的函数，该函数同时引用了外部变量但非全局变量 "
   ]
  },
  {
   "cell_type": "code",
   "execution_count": 3,
   "metadata": {},
   "outputs": [
    {
     "name": "stdout",
     "output_type": "stream",
     "text": [
      "<function count.<locals>.add_in at 0x0000019807F8F048>\n"
     ]
    }
   ],
   "source": [
    "def count():\n",
    "    a = 1\n",
    "    b = 2\n",
    "    def add_in():\n",
    "        c = 1\n",
    "        return a + c   # a -- 自由变量\n",
    "    return add_in \n",
    "\n",
    "res = count()\n",
    "print(res)"
   ]
  },
  {
   "cell_type": "markdown",
   "metadata": {},
   "source": [
    "##### 2. python装饰器\n",
    "    python的装饰器本质上就是一个函数，它可以让其他函数在不需要做任何代码变动的\n",
    "    前提下增加额外的功能，装饰器的返回值也是一个函数对象（函数的指针）。装饰器\n",
    "    函数的外部函数传入要装饰的函数名字，返回经过修饰后函数的名字；内层函数（闭\n",
    "    包）负责修饰被修饰函数。装饰器的几点属性：\n",
    "   - 实质： 是一个函数\n",
    "   - 参数： 是你要装饰的函数名（并非函数调用）\n",
    "   - 返回： 是装饰完的函数名（也非函数调用）\n",
    "   - 作用： 为已经存在的对象添加额外的功能\n",
    "   - 特点： 不需要对对象做任何的代码上的变动\n",
    "   \n",
    "    python装饰器的应用场景,比如： 插入日志、性能测试、事务管理、权限校验等。装饰\n",
    "    器是解决这类问题的绝佳设计。并且从引入中的列子中我们也可以归纳出：装饰器最大\n",
    "    的作用就是对于我们已经写好的程序，我们可以抽离出一些雷同的代码组建多个特定功\n",
    "    能的装饰器，这样我们就可以针对不同的需求去使用特定的装饰器，这时因为源码去除\n",
    "    了大量泛化的内容而使得源码具有更加清晰的逻辑。"
   ]
  },
  {
   "cell_type": "markdown",
   "metadata": {},
   "source": [
    "##### 2.1 函数装饰器\n",
    "函数的函数装饰器: 下面以函数添加计时功能为例，讲解函数装饰器.\n"
   ]
  },
  {
   "cell_type": "code",
   "execution_count": 5,
   "metadata": {},
   "outputs": [
    {
     "name": "stdout",
     "output_type": "stream",
     "text": [
      "执行函数func1\n",
      "3.01077938079834\n"
     ]
    }
   ],
   "source": [
    "import time\n",
    "def decorator(func):\n",
    "    def wrapper(*args, **kwargs):\n",
    "        start_time = time.time()\n",
    "        func()\n",
    "        end_time = time.time()\n",
    "        print(end_time - start_time)\n",
    "    return wrapper\n",
    "\n",
    "@decorator\n",
    "def func1():\n",
    "    print(\"执行函数func1\")\n",
    "    time.sleep(3)\n",
    "    \n",
    "func1()"
   ]
  },
  {
   "cell_type": "markdown",
   "metadata": {},
   "source": [
    "   在上例中，func1是我要装饰的函数，即用装饰器显示func函数运行的时间.@decorator\n",
    "   这个语法相当于执行func1=decorator(func1),为函数func1()装饰并返回。再来分析装\n",
    "   饰器函数--decorator,该函数的传入参数是func(被装饰函数)，返回函数是内层函数。\n",
    "   这里的内层函数--wrapper，其实就相当于闭包函数，它起到装饰给定函数的作用，\n",
    "   wrapper参数为*arg,**kwargs,*arg表示参数以元组的形式传入；**kwargs表示的参数\n",
    "   以字典的形式传入："
   ]
  },
  {
   "cell_type": "code",
   "execution_count": 6,
   "metadata": {},
   "outputs": [
    {
     "name": "stdout",
     "output_type": "stream",
     "text": [
      "args:  (['hello'], 'world', 12, 34)\n",
      "kwargs:  {'x': 56, 'y': 78}\n"
     ]
    }
   ],
   "source": [
    "def wrapper(*args,**kwargs):\n",
    "    print(\"args: \", args)\n",
    "    print(\"kwargs: \", kwargs)\n",
    "    \n",
    "wrapper([\"hello\"], \"world\", 12, 34, x=56, y=78)"
   ]
  },
  {
   "cell_type": "markdown",
   "metadata": {},
   "source": [
    "##### 这里要注意的是：为了不破坏原函数的逻辑，我们要保证内层函数wrapper和被装饰函数func的传入参数和返回值类型必须保持一致。"
   ]
  },
  {
   "cell_type": "markdown",
   "metadata": {},
   "source": [
    "##### 2.2 类方法的函数装饰器\n",
    "  类方法的函数装饰器和函数的函数装饰器类似"
   ]
  },
  {
   "cell_type": "code",
   "execution_count": 9,
   "metadata": {},
   "outputs": [
    {
     "name": "stdout",
     "output_type": "stream",
     "text": [
      "正在执行函数func2。。。。\n",
      "2.0073139667510986\n"
     ]
    }
   ],
   "source": [
    "import time\n",
    "\n",
    "def deco(func):\n",
    "    def wrapper(me_instance):\n",
    "        start_time = time.time()\n",
    "        func(me_instance)\n",
    "        end_time = time.time()\n",
    "        print(end_time - start_time)\n",
    "    return wrapper\n",
    "\n",
    "class Method(object):\n",
    "    \n",
    "    @deco\n",
    "    def func2(self):\n",
    "        print(\"正在执行函数func2。。。。\")\n",
    "        time.sleep(2)\n",
    "        \n",
    "m1 = Method()\n",
    "m1.func2()"
   ]
  },
  {
   "cell_type": "markdown",
   "metadata": {},
   "source": [
    "对于类方法来说，都会有一个默认的参数self，它实际表示的是类的一个实例，所以在装饰器的内部函数wrapper也要传入一个参数 - me_instance就表示将类的实例p1传给wrapper，其他的用法都和函数装饰器相同。"
   ]
  },
  {
   "cell_type": "markdown",
   "metadata": {},
   "source": [
    "##### 2.2 类装饰器\n",
    "  前面提到的都是让函数作为装饰器去装饰其他的函数或者方法,当然，也可以让类发挥装饰器\n",
    "  的作用.函数和类在本质上没有什么不一致。只是形式可能就稍微不同"
   ]
  },
  {
   "cell_type": "code",
   "execution_count": 10,
   "metadata": {},
   "outputs": [
    {
     "name": "stdout",
     "output_type": "stream",
     "text": [
      "decorator start....\n",
      "func3 is running....\n",
      "decorator end!\n"
     ]
    }
   ],
   "source": [
    "class Decorator():\n",
    "    def __init__(self, f):\n",
    "        self.f = f\n",
    "        \n",
    "    def __call__(self):\n",
    "        print(\"decorator start....\")\n",
    "        self.f()\n",
    "        print(\"decorator end!\")\n",
    "        \n",
    "@Decorator\n",
    "def func3():\n",
    "    print(\"func3 is running....\")\n",
    "\n",
    "func3()"
   ]
  },
  {
   "cell_type": "markdown",
   "metadata": {},
   "source": [
    "这里有注意的是：__call__()是一个特殊方法，它可将一个类实例变成一个可调用对象:"
   ]
  },
  {
   "cell_type": "code",
   "execution_count": 11,
   "metadata": {},
   "outputs": [
    {
     "name": "stdout",
     "output_type": "stream",
     "text": [
      "decorator start....\n",
      "decorator start....\n",
      "func3 is running....\n",
      "decorator end!\n",
      "decorator end!\n"
     ]
    }
   ],
   "source": [
    "d1 = Decorator(func3)  # d1 是类Decorator的一个实例\n",
    "d1()  # 实现了__call__()方法后，d1可以被调用"
   ]
  },
  {
   "cell_type": "markdown",
   "metadata": {},
   "source": [
    "要使用类装饰器必须实现类中的__call__()方法，就相当于将实例变成了一个方法。"
   ]
  },
  {
   "cell_type": "markdown",
   "metadata": {},
   "source": [
    "##### 2.4 装饰器链\n",
    "  一个python函数也可以被多个装饰器修饰，要是有多个装饰器时，这些装饰器的执行顺序\n",
    "  是如何执行的呢？"
   ]
  },
  {
   "cell_type": "code",
   "execution_count": 12,
   "metadata": {},
   "outputs": [
    {
     "name": "stdout",
     "output_type": "stream",
     "text": [
      "<b><i>Hello!</i></b>\n"
     ]
    }
   ],
   "source": [
    "def makeBold(f):\n",
    "    return lambda: \"<b>\" + f() + \"</b>\"\n",
    "\n",
    "def makeItalic(f):\n",
    "    return lambda:\"<i>\" + f() + \"</i>\" \n",
    "\n",
    "@makeBold\n",
    "@makeItalic\n",
    "def say():\n",
    "    return \"Hello!\"\n",
    "\n",
    "print(say())"
   ]
  },
  {
   "cell_type": "markdown",
   "metadata": {},
   "source": [
    "可见，多个装饰器的执行顺序：是从近到远依次执行。"
   ]
  },
  {
   "cell_type": "markdown",
   "metadata": {},
   "source": [
    "##### 2.5 python装饰器库 - functools"
   ]
  },
  {
   "cell_type": "code",
   "execution_count": 13,
   "metadata": {},
   "outputs": [
    {
     "name": "stdout",
     "output_type": "stream",
     "text": [
      "inner_func\n"
     ]
    }
   ],
   "source": [
    "def decorator2(func):\n",
    "    def inner_func():\n",
    "        pass\n",
    "    return inner_func\n",
    "\n",
    "@decorator2\n",
    "def func4():\n",
    "    pass\n",
    "\n",
    "print(func4.__name__)"
   ]
  },
  {
   "cell_type": "markdown",
   "metadata": {},
   "source": [
    "上述代码最后执行的结果不是 func，而是 inner_function！这表示被装饰函数自身的信息丢\n",
    "失了！怎么才能避免这种问题的发生呢？\n",
    "\n",
    "可以借助functools.wraps()函数："
   ]
  },
  {
   "cell_type": "code",
   "execution_count": 15,
   "metadata": {},
   "outputs": [
    {
     "name": "stdout",
     "output_type": "stream",
     "text": [
      "func5\n"
     ]
    }
   ],
   "source": [
    "from functools import wraps\n",
    "def decorator3(func):\n",
    "    @wraps(func)\n",
    "    def inner_func():\n",
    "        pass\n",
    "    return inner_func\n",
    "\n",
    "@decorator3\n",
    "def func5():\n",
    "    pass\n",
    "\n",
    "print(func5.__name__)"
   ]
  }
 ],
 "metadata": {
  "kernelspec": {
   "display_name": "Python 3",
   "language": "python",
   "name": "python3"
  },
  "language_info": {
   "codemirror_mode": {
    "name": "ipython",
    "version": 3
   },
   "file_extension": ".py",
   "mimetype": "text/x-python",
   "name": "python",
   "nbconvert_exporter": "python",
   "pygments_lexer": "ipython3",
   "version": "3.6.4"
  }
 },
 "nbformat": 4,
 "nbformat_minor": 2
}
